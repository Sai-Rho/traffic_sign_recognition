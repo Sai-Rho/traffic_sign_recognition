{
 "cells": [
  {
   "cell_type": "markdown",
   "metadata": {},
   "source": [
    "# Traffic Sign Recognition"
   ]
  },
  {
   "cell_type": "markdown",
   "metadata": {},
   "source": [
    "## What is Traffic Signs Recognition?\n",
    "There are several different types of traffic signs like speed limits, no entry, traffic signals, turn left or right, children crossing, no passing of heavy vehicles, etc. Traffic signs classification is the process of identifying which class a traffic sign belongs to.\n"
   ]
  },
  {
   "cell_type": "markdown",
   "metadata": {},
   "source": [
    "## Aim of the project\n",
    "We have to build a Deep Neural Network model that can classify traffic signs present in the image into different categories. With this model, we should be able to read and understand traffic signs which are a very important task for all autonomous vehicles."
   ]
  },
  {
   "cell_type": "markdown",
   "metadata": {},
   "source": [
    "Importing all necessary libraries\n",
    "\n",
    "Importing data and preprocessing\n",
    "\n",
    "Converting image and label lists into numpy arrays\n",
    "\n",
    "Splitting data and labels into training and testing dataset\n",
    "\n",
    "CNN Model Building\n",
    "\n",
    "Compilation of the model\n",
    "\n",
    "fitting of the model"
   ]
  },
  {
   "cell_type": "markdown",
   "metadata": {},
   "source": [
    "## Importing all necessary libraries"
   ]
  },
  {
   "cell_type": "code",
   "execution_count": 1,
   "metadata": {},
   "outputs": [],
   "source": [
    "from tensorflow.keras.layers import Conv2D, MaxPool2D, Dense, Flatten, Dropout\n",
    "from tensorflow.keras.models import Sequential, load_model\n",
    "from sklearn.model_selection import train_test_split\n",
    "from tensorflow.keras.utils import to_categorical\n",
    "import matplotlib.pyplot as plt\n",
    "import tensorflow as tf\n",
    "from PIL import Image\n",
    "import pandas as pd \n",
    "import numpy as np \n",
    "import cv2\n",
    "import os"
   ]
  },
  {
   "cell_type": "markdown",
   "metadata": {},
   "source": [
    "## Importing data and preprocessing"
   ]
  },
  {
   "cell_type": "markdown",
   "metadata": {},
   "source": [
    "### Info on data \n",
    "The dataset contains more than 50,000 images of different traffic signs.\n",
    "\n",
    "It is further classified into 43 different classes.\n",
    "\n",
    "The ‘train’ folder contains 43 folders each representing a different class. The range of the folder is from 0 to 42. \n"
   ]
  },
  {
   "cell_type": "code",
   "execution_count": 4,
   "metadata": {},
   "outputs": [],
   "source": [
    "data = []\n",
    "labels = []\n",
    "categories = 43\n",
    "height = 30\n",
    "width = 30\n",
    "curr_path = os.getcwd()                 # The method os. getcwd() in Python returns the current working directory of a process. \n",
    "\n",
    "for i in range(categories):\n",
    "    path = os.path.join(curr_path,'Dataset/train',str(i))       #joins one or more path components\n",
    "    images = os.listdir(path)                                   #lists files and directories in the given path \n",
    "    for a in images:    \n",
    "        try:\n",
    "            image = Image.open(path + '//'+ a)                  #opening other image file     \n",
    "            image = image.resize((height,width))                #resizing the image to maintain uniform\n",
    "            image = np.array(image)                             #getting array of images using numpy\n",
    "            data.append(image)                                  #appending images data to data list\n",
    "            labels.append(i)                                    #appending the labels list\n",
    "        except:\n",
    "            print(\"Error loading image\")"
   ]
  },
  {
   "cell_type": "markdown",
   "metadata": {},
   "source": [
    "## Converting image and label lists into numpy arrays"
   ]
  },
  {
   "cell_type": "markdown",
   "metadata": {},
   "source": [
    "We need to convert the data and label list into numpy arrays for feeding to the model."
   ]
  },
  {
   "cell_type": "code",
   "execution_count": 5,
   "metadata": {},
   "outputs": [
    {
     "name": "stdout",
     "output_type": "stream",
     "text": [
      "(39209, 30, 30, 3) (39209,)\n"
     ]
    }
   ],
   "source": [
    "data = np.array(data)                          #data list into numpy array\n",
    "labels = np.array(labels)                      #label list into numpy array\n",
    "print(data.shape, labels.shape)                #shape of data and label"
   ]
  },
  {
   "cell_type": "markdown",
   "metadata": {},
   "source": [
    "\n",
    "The shape of data is (39209, 30, 30, 3)\n",
    "\n",
    "which means that there are 39209 images \n",
    "\n",
    "image size 30×30 pixels \n",
    "\n",
    "The last 3 defines the data contains colored images i,e (RGB value)."
   ]
  },
  {
   "cell_type": "markdown",
   "metadata": {},
   "source": [
    "## Splitting data and labels into training and testing dataset"
   ]
  },
  {
   "cell_type": "code",
   "execution_count": 7,
   "metadata": {},
   "outputs": [
    {
     "name": "stdout",
     "output_type": "stream",
     "text": [
      "(31367, 30, 30, 3) (7842, 30, 30, 3) (31367,) (7842,)\n"
     ]
    }
   ],
   "source": [
    "X_train, X_test, y_train, y_test = train_test_split(data,          #train_test_split() method to split training and testing data\n",
    "                                                    labels, \n",
    "                                                    test_size=0.2, \n",
    "                                                    random_state=30)\n",
    "\n",
    "print(X_train.shape, X_test.shape, y_train.shape, y_test.shape)    # shape of training and testing "
   ]
  },
  {
   "cell_type": "markdown",
   "metadata": {},
   "source": [
    "test size is 0.2 i,e 20 % data\n",
    "### For training\n",
    "The shape of data is (31367, 30, 30, 3)\n",
    "\n",
    "which means that there are 31367 images\n",
    "\n",
    "image size 30×30 pixels\n",
    "\n",
    "The last 3 defines the data contains colored images i,e (RGB value).\n",
    "\n",
    "### for testing \n",
    "The shape of data is (7842, 30, 30, 3)\n",
    "\n",
    "which means that there are 7842 images\n",
    "\n",
    "image size 30×30 pixels\n",
    "\n",
    "The last 3 defines the data contains colored images i,e (RGB value)."
   ]
  },
  {
   "cell_type": "markdown",
   "metadata": {},
   "source": [
    "## Converting the labels\n",
    "to_categorical Converts a class vector (integers) to binary class matrix"
   ]
  },
  {
   "cell_type": "code",
   "execution_count": 10,
   "metadata": {},
   "outputs": [],
   "source": [
    "y_train = to_categorical(y_train, 43)\n",
    "y_test = to_categorical(y_test, 43)"
   ]
  },
  {
   "cell_type": "markdown",
   "metadata": {},
   "source": [
    "# CNN Model Building"
   ]
  },
  {
   "cell_type": "markdown",
   "metadata": {},
   "source": [
    "A Sequential model is appropriate for a plain stack of layers where each layer has exactly one input tensor and one output tensor.\n",
    "\n",
    "conv2d() is the TensorFlow function you can use to build a 2D convolutional layer as part of your CNN architecture.\n",
    "\n",
    "ReLU for short is a piecewise linear function that will output the input directly if it is positive, otherwise, it will output zero.\n",
    "\n",
    "Max pooling is a type of operation that is typically added to CNNs following individual convolutional layers. When added to a model, max pooling reduces the dimensionality of images by reducing the number of pixels in the output from the previous convolutional layer.\n",
    "\n",
    "Dropout is a technique used to prevent a model from overfitting. Dropout works by randomly setting the outgoing edges of hidden units (neurons that make up hidden layers) to 0 at each update of the training phase.\n",
    "\n",
    "Dense layer is a fully connected layer, meaning all the neurons in a layer are connected to those in the next layer.\n",
    "\n",
    "The softmax function is used as the activation function in the output layer of neural network models that predict a multinomial probability distribution. That is, softmax is used as the activation function for multi-class classification problems."
   ]
  },
  {
   "cell_type": "code",
   "execution_count": 11,
   "metadata": {},
   "outputs": [],
   "source": [
    "model = Sequential()\n",
    "\n",
    "model.add(Conv2D(filters=32, kernel_size=(5,5), \n",
    "                 activation='relu', \n",
    "                 input_shape=X_train.shape[1:]))\n",
    "\n",
    "model.add(Conv2D(filters=32, kernel_size=(5,5),\n",
    "                 activation='relu'))\n",
    "\n",
    "model.add(MaxPool2D(pool_size=(2, 2)))\n",
    "model.add(Dropout(rate=0.25))\n",
    "\n",
    "model.add(Conv2D(filters=32, kernel_size=(3, 3), \n",
    "                 activation='relu'))\n",
    "\n",
    "model.add(Conv2D(filters=32, kernel_size=(3, 3), \n",
    "                 activation='relu'))\n",
    "\n",
    "model.add(MaxPool2D(pool_size=(2, 2)))\n",
    "model.add(Dropout(rate=0.3))\n",
    "\n",
    "model.add(Flatten())                                          \n",
    "\n",
    "model.add(Dense(190, activation='relu')) \n",
    "\n",
    "model.add(Dropout(rate=0.5))\n",
    "\n",
    "model.add(Dense(43, activation='softmax'))"
   ]
  },
  {
   "cell_type": "markdown",
   "metadata": {},
   "source": [
    "# Compilation of the model\n"
   ]
  },
  {
   "cell_type": "markdown",
   "metadata": {},
   "source": [
    "### Compile defines the loss function, the optimizer and the metrics"
   ]
  },
  {
   "cell_type": "code",
   "execution_count": 12,
   "metadata": {},
   "outputs": [],
   "source": [
    "model.compile(loss='categorical_crossentropy', \n",
    "              optimizer='adam', \n",
    "              metrics=['accuracy'])"
   ]
  },
  {
   "cell_type": "markdown",
   "metadata": {},
   "source": [
    "## Fitting of a model"
   ]
  },
  {
   "cell_type": "markdown",
   "metadata": {},
   "source": [
    "### Trains the model for a fixed number of epochs"
   ]
  },
  {
   "cell_type": "code",
   "execution_count": 13,
   "metadata": {},
   "outputs": [
    {
     "name": "stdout",
     "output_type": "stream",
     "text": [
      "Epoch 1/15\n",
      "981/981 [==============================] - 94s 95ms/step - loss: 3.7343 - accuracy: 0.2080 - val_loss: 1.4752 - val_accuracy: 0.5925\n",
      "Epoch 2/15\n",
      "981/981 [==============================] - 89s 91ms/step - loss: 1.5402 - accuracy: 0.5169 - val_loss: 0.7089 - val_accuracy: 0.8045\n",
      "Epoch 3/15\n",
      "981/981 [==============================] - 90s 92ms/step - loss: 0.9317 - accuracy: 0.7135 - val_loss: 0.2731 - val_accuracy: 0.9227\n",
      "Epoch 4/15\n",
      "981/981 [==============================] - 90s 92ms/step - loss: 0.6147 - accuracy: 0.8157 - val_loss: 0.2000 - val_accuracy: 0.9454\n",
      "Epoch 5/15\n",
      "981/981 [==============================] - 91s 92ms/step - loss: 0.4929 - accuracy: 0.8503 - val_loss: 0.1549 - val_accuracy: 0.9601\n",
      "Epoch 6/15\n",
      "981/981 [==============================] - 95s 97ms/step - loss: 0.4246 - accuracy: 0.8739 - val_loss: 0.1807 - val_accuracy: 0.9526\n",
      "Epoch 7/15\n",
      "981/981 [==============================] - 91s 92ms/step - loss: 0.4085 - accuracy: 0.8793 - val_loss: 0.1050 - val_accuracy: 0.9730\n",
      "Epoch 8/15\n",
      "981/981 [==============================] - 92s 93ms/step - loss: 0.3586 - accuracy: 0.8931 - val_loss: 0.1322 - val_accuracy: 0.9637\n",
      "Epoch 9/15\n",
      "981/981 [==============================] - 91s 93ms/step - loss: 0.3124 - accuracy: 0.9079 - val_loss: 0.1105 - val_accuracy: 0.9697\n",
      "Epoch 10/15\n",
      "981/981 [==============================] - 93s 94ms/step - loss: 0.2978 - accuracy: 0.9111 - val_loss: 0.0881 - val_accuracy: 0.9773\n",
      "Epoch 11/15\n",
      "981/981 [==============================] - 92s 94ms/step - loss: 0.3041 - accuracy: 0.9128 - val_loss: 0.1226 - val_accuracy: 0.9626\n",
      "Epoch 12/15\n",
      "981/981 [==============================] - 93s 95ms/step - loss: 0.2966 - accuracy: 0.9147 - val_loss: 0.0762 - val_accuracy: 0.9811\n",
      "Epoch 13/15\n",
      "981/981 [==============================] - 94s 96ms/step - loss: 0.2679 - accuracy: 0.9254 - val_loss: 0.0615 - val_accuracy: 0.9827\n",
      "Epoch 14/15\n",
      "981/981 [==============================] - 95s 97ms/step - loss: 0.2645 - accuracy: 0.9254 - val_loss: 0.1004 - val_accuracy: 0.9722\n",
      "Epoch 15/15\n",
      "981/981 [==============================] - 94s 96ms/step - loss: 0.2438 - accuracy: 0.9288 - val_loss: 0.0663 - val_accuracy: 0.9824\n"
     ]
    },
    {
     "data": {
      "text/plain": [
       "<tensorflow.python.keras.callbacks.History at 0x26b13543820>"
      ]
     },
     "execution_count": 13,
     "metadata": {},
     "output_type": "execute_result"
    }
   ],
   "source": [
    "model.fit(X_train, y_train, batch_size=32, \n",
    "          epochs=15, \n",
    "          validation_data=(X_test, y_test))"
   ]
  },
  {
   "cell_type": "markdown",
   "metadata": {},
   "source": [
    "## Our model got a 93% accuracy on the training dataset"
   ]
  },
  {
   "cell_type": "markdown",
   "metadata": {},
   "source": [
    "### Model Evaluate\n",
    "Evaluation is a process during development of the model to check whether the model is best fit for the given problem and corresponding data"
   ]
  },
  {
   "cell_type": "code",
   "execution_count": 15,
   "metadata": {},
   "outputs": [
    {
     "name": "stdout",
     "output_type": "stream",
     "text": [
      "246/246 - 4s - loss: 0.0663 - accuracy: 0.9824\n"
     ]
    },
    {
     "data": {
      "text/plain": [
       "[0.0663302093744278, 0.9824024438858032]"
      ]
     },
     "execution_count": 15,
     "metadata": {},
     "output_type": "execute_result"
    }
   ],
   "source": [
    "model.evaluate(X_test, y_test, verbose=2)"
   ]
  },
  {
   "cell_type": "markdown",
   "metadata": {},
   "source": [
    "### Probability Model"
   ]
  },
  {
   "cell_type": "code",
   "execution_count": 21,
   "metadata": {},
   "outputs": [],
   "source": [
    "probability_model = tf.keras.Sequential([model,\n",
    "                                        tf.keras.layers.Softmax()])"
   ]
  },
  {
   "cell_type": "code",
   "execution_count": 23,
   "metadata": {},
   "outputs": [
    {
     "data": {
      "text/plain": [
       "<tf.Tensor: shape=(4, 43), dtype=float32, numpy=\n",
       "array([[0.02236221, 0.02236221, 0.02236221, 0.02236221, 0.02236221,\n",
       "        0.02236221, 0.02236221, 0.02236221, 0.02236221, 0.02236221,\n",
       "        0.02236221, 0.02236221, 0.02236221, 0.02236221, 0.02236221,\n",
       "        0.02236221, 0.02236221, 0.02236221, 0.02236221, 0.02236221,\n",
       "        0.02236221, 0.02236221, 0.02236221, 0.02236221, 0.02236221,\n",
       "        0.02236221, 0.02236221, 0.02236221, 0.02236221, 0.02236221,\n",
       "        0.02236221, 0.02236221, 0.02236221, 0.02236221, 0.02236221,\n",
       "        0.02236221, 0.02236221, 0.02236221, 0.06078678, 0.02236221,\n",
       "        0.02236221, 0.02236221, 0.02236221],\n",
       "       [0.02259477, 0.02259578, 0.0226051 , 0.0229452 , 0.02259478,\n",
       "        0.02286181, 0.0225948 , 0.02259884, 0.02284053, 0.02720262,\n",
       "        0.02265869, 0.02259479, 0.02275968, 0.02370743, 0.02259481,\n",
       "        0.02277599, 0.0226652 , 0.02259478, 0.02259479, 0.02259477,\n",
       "        0.02259581, 0.02259477, 0.02259477, 0.02259478, 0.02259477,\n",
       "        0.02259597, 0.02259477, 0.02259477, 0.02259478, 0.02259479,\n",
       "        0.02259477, 0.02259478, 0.02260514, 0.02259684, 0.02383311,\n",
       "        0.04187665, 0.0226649 , 0.02259492, 0.02320016, 0.02259482,\n",
       "        0.02272875, 0.02259518, 0.02259482],\n",
       "       [0.02236221, 0.02236221, 0.02236221, 0.02236221, 0.02236221,\n",
       "        0.02236221, 0.02236221, 0.02236221, 0.02236221, 0.02236221,\n",
       "        0.02236221, 0.06078678, 0.02236221, 0.02236221, 0.02236221,\n",
       "        0.02236221, 0.02236221, 0.02236221, 0.02236221, 0.02236221,\n",
       "        0.02236221, 0.02236221, 0.02236221, 0.02236221, 0.02236221,\n",
       "        0.02236221, 0.02236221, 0.02236221, 0.02236221, 0.02236221,\n",
       "        0.02236221, 0.02236221, 0.02236221, 0.02236221, 0.02236221,\n",
       "        0.02236221, 0.02236221, 0.02236221, 0.02236221, 0.02236221,\n",
       "        0.02236221, 0.02236221, 0.02236221],\n",
       "       [0.02236221, 0.02236221, 0.02236221, 0.02236221, 0.02236221,\n",
       "        0.02236221, 0.02236221, 0.02236221, 0.02236221, 0.02236221,\n",
       "        0.02236221, 0.02236221, 0.02236221, 0.02236221, 0.02236221,\n",
       "        0.02236221, 0.02236221, 0.02236221, 0.02236221, 0.02236221,\n",
       "        0.02236221, 0.02236221, 0.02236221, 0.02236221, 0.02236221,\n",
       "        0.02236221, 0.02236221, 0.02236221, 0.02236221, 0.02236221,\n",
       "        0.02236221, 0.02236221, 0.02236221, 0.06078678, 0.02236221,\n",
       "        0.02236221, 0.02236221, 0.02236221, 0.02236221, 0.02236222,\n",
       "        0.02236221, 0.02236221, 0.02236221]], dtype=float32)>"
      ]
     },
     "execution_count": 23,
     "metadata": {},
     "output_type": "execute_result"
    }
   ],
   "source": [
    "probability_model(X_test[:4])"
   ]
  },
  {
   "cell_type": "markdown",
   "metadata": {},
   "source": [
    "### Prediction Model"
   ]
  },
  {
   "cell_type": "code",
   "execution_count": 26,
   "metadata": {},
   "outputs": [],
   "source": [
    "predictions = probability_model.predict(X_test)"
   ]
  },
  {
   "cell_type": "code",
   "execution_count": 28,
   "metadata": {},
   "outputs": [
    {
     "data": {
      "text/plain": [
       "array([[0.02236221, 0.02236221, 0.02236221, 0.02236221, 0.02236221,\n",
       "        0.02236221, 0.02236221, 0.02236221, 0.02236221, 0.02236221,\n",
       "        0.02236221, 0.02236221, 0.02236221, 0.02236221, 0.02236221,\n",
       "        0.02236221, 0.02236221, 0.02236221, 0.02236221, 0.02236221,\n",
       "        0.02236221, 0.02236221, 0.02236221, 0.02236221, 0.02236221,\n",
       "        0.02236221, 0.02236221, 0.02236221, 0.02236221, 0.02236221,\n",
       "        0.02236221, 0.02236221, 0.02236221, 0.02236221, 0.02236221,\n",
       "        0.02236221, 0.02236221, 0.02236221, 0.06078678, 0.02236221,\n",
       "        0.02236221, 0.02236221, 0.02236221],\n",
       "       [0.02259478, 0.02259578, 0.0226051 , 0.0229452 , 0.02259478,\n",
       "        0.02286181, 0.0225948 , 0.02259884, 0.02284053, 0.02720262,\n",
       "        0.02265868, 0.02259478, 0.02275967, 0.02370743, 0.02259481,\n",
       "        0.022776  , 0.0226652 , 0.02259478, 0.02259479, 0.02259478,\n",
       "        0.02259581, 0.02259478, 0.02259478, 0.02259478, 0.02259478,\n",
       "        0.02259597, 0.02259478, 0.02259478, 0.02259478, 0.02259479,\n",
       "        0.02259478, 0.02259478, 0.02260514, 0.02259683, 0.02383311,\n",
       "        0.04187664, 0.0226649 , 0.02259492, 0.02320016, 0.02259482,\n",
       "        0.02272875, 0.02259518, 0.02259481],\n",
       "       [0.02236221, 0.02236221, 0.02236221, 0.02236221, 0.02236221,\n",
       "        0.02236221, 0.02236221, 0.02236221, 0.02236221, 0.02236221,\n",
       "        0.02236221, 0.06078678, 0.02236221, 0.02236221, 0.02236221,\n",
       "        0.02236221, 0.02236221, 0.02236221, 0.02236221, 0.02236221,\n",
       "        0.02236221, 0.02236221, 0.02236221, 0.02236221, 0.02236221,\n",
       "        0.02236221, 0.02236221, 0.02236221, 0.02236221, 0.02236221,\n",
       "        0.02236221, 0.02236221, 0.02236221, 0.02236221, 0.02236221,\n",
       "        0.02236221, 0.02236221, 0.02236221, 0.02236221, 0.02236221,\n",
       "        0.02236221, 0.02236221, 0.02236221],\n",
       "       [0.02236221, 0.02236221, 0.02236221, 0.02236221, 0.02236221,\n",
       "        0.02236221, 0.02236221, 0.02236221, 0.02236221, 0.02236221,\n",
       "        0.02236221, 0.02236221, 0.02236221, 0.02236221, 0.02236221,\n",
       "        0.02236221, 0.02236221, 0.02236221, 0.02236221, 0.02236221,\n",
       "        0.02236221, 0.02236221, 0.02236221, 0.02236221, 0.02236221,\n",
       "        0.02236221, 0.02236221, 0.02236221, 0.02236221, 0.02236221,\n",
       "        0.02236221, 0.02236221, 0.02236221, 0.06078678, 0.02236221,\n",
       "        0.02236221, 0.02236221, 0.02236221, 0.02236221, 0.02236222,\n",
       "        0.02236221, 0.02236221, 0.02236221]], dtype=float32)"
      ]
     },
     "execution_count": 28,
     "metadata": {},
     "output_type": "execute_result"
    }
   ],
   "source": [
    "predictions[:4]"
   ]
  },
  {
   "cell_type": "markdown",
   "metadata": {},
   "source": [
    "### Model Saving "
   ]
  },
  {
   "cell_type": "code",
   "execution_count": 32,
   "metadata": {},
   "outputs": [
    {
     "name": "stdout",
     "output_type": "stream",
     "text": [
      "INFO:tensorflow:Assets written to: TSR\\assets\n"
     ]
    }
   ],
   "source": [
    "model.save(\"TSR\")"
   ]
  }
 ],
 "metadata": {
  "kernelspec": {
   "display_name": "‘TensorFlow-GPU’",
   "language": "python",
   "name": "tensorflow"
  },
  "language_info": {
   "codemirror_mode": {
    "name": "ipython",
    "version": 3
   },
   "file_extension": ".py",
   "mimetype": "text/x-python",
   "name": "python",
   "nbconvert_exporter": "python",
   "pygments_lexer": "ipython3",
   "version": "3.8.5"
  }
 },
 "nbformat": 4,
 "nbformat_minor": 4
}
